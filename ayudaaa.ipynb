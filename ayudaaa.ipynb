{
 "cells": [
  {
   "cell_type": "markdown",
   "id": "6dcc13d0-15c0-4092-9f82-461295c64b17",
   "metadata": {},
   "source": [
    "## Examen 1. Minimizar la función dada"
   ]
  },
  {
   "cell_type": "code",
   "execution_count": 1,
   "id": "977cbb2b-a535-4418-a496-daf77435de3c",
   "metadata": {},
   "outputs": [],
   "source": [
    "import numpy as np\n",
    "import pandas as pd\n",
    "import random"
   ]
  },
  {
   "cell_type": "markdown",
   "id": "d14c6a41-95cd-4693-b3b6-b6960b48a55a",
   "metadata": {},
   "source": [
    "## Función Objetivo"
   ]
  },
  {
   "cell_type": "code",
   "execution_count": 2,
   "id": "61b5e2bc-1447-4431-8c9a-e1f315c2a43f",
   "metadata": {},
   "outputs": [],
   "source": [
    "def funcion_objetivo(x):\n",
    "    # Assuming `x` is a numpy array with two elements, x[0] and x[1]\n",
    "    sum1 = sum(i * np.cos((i + 1) * x[0] + i) for i in range(1, 6))\n",
    "    sum2 = sum(i * np.cos((i + 1) * x[1] + i) for i in range(1, 6))\n",
    "    return sum1 * sum2"
   ]
  },
  {
   "cell_type": "markdown",
   "id": "a6af1a83-aad0-4703-ab93-9814155010e9",
   "metadata": {},
   "source": [
    "## Generar Poblaciónes Iniciales"
   ]
  },
  {
   "cell_type": "code",
   "execution_count": 3,
   "id": "fdb84665-1240-43a5-94ef-760521952e61",
   "metadata": {},
   "outputs": [],
   "source": [
    "def inicializar_poblacion(pop_size, bounds, random_state=None):\n",
    "    if random_state is not None:\n",
    "        np.random.seed(random_state)\n",
    "    population = []\n",
    "    for _ in range(pop_size):\n",
    "        individual = np.random.uniform(bounds[0], bounds[1], size=2)  # Two genes for x1 and x2\n",
    "        population.append(individual)\n",
    "    return np.array(population)"
   ]
  },
  {
   "cell_type": "markdown",
   "id": "86891c35-7c65-4c49-a005-4b89abfb4e92",
   "metadata": {},
   "source": [
    "## Evaluar la poblacion"
   ]
  },
  {
   "cell_type": "code",
   "execution_count": 4,
   "id": "6bf7f0f8-07d3-4741-b77a-498306806122",
   "metadata": {},
   "outputs": [],
   "source": [
    "def evaluacion_aptitud(poblacion):\n",
    "    n = len(poblacion)\n",
    "    aptitud = []\n",
    "    matriz_con_aptitud = pd.DataFrame()\n",
    "    \n",
    "    for individuo in poblacion:\n",
    "        aptitud.append(-funcion_objetivo(individuo))  # Evaluamos la aptitud usando la función objetivo\n",
    "    \n",
    "    matriz_con_aptitud[\"POBLACION\"] = [list(ind) for ind in poblacion]  # Guardamos cada individuo\n",
    "    matriz_con_aptitud[\"APTITUD\"] = aptitud  # Aptitud de cada individuo\n",
    "    \n",
    "    return matriz_con_aptitud\n",
    "\n",
    "# Ejemplo de uso"
   ]
  },
  {
   "cell_type": "markdown",
   "id": "96a9929c-02cb-4367-ba43-476ce094f0a5",
   "metadata": {},
   "source": [
    "## Metodos de selección"
   ]
  },
  {
   "cell_type": "markdown",
   "id": "0853f03a-bc57-412a-ae23-d82210cda7c7",
   "metadata": {},
   "source": [
    "### Ranking"
   ]
  },
  {
   "cell_type": "code",
   "execution_count": 5,
   "id": "fa86268f-55a9-418c-8f8b-5bfa5c95a908",
   "metadata": {},
   "outputs": [],
   "source": [
    "def rank_seleccion(poblacion):\n",
    "    n = len(poblacion)  # Número de individuos en la población\n",
    "    poblacion_hijos = []\n",
    "    i = 0\n",
    "    \n",
    "    # Generamos hijos mediante cruce de pares adyacentes en la población ordenada\n",
    "    while i < n - 1:\n",
    "        padre1 = poblacion[i]\n",
    "        padre2 = poblacion[i + 1]\n",
    "        \n",
    "        # Realizamos cruce (un punto o homogéneo)\n",
    "        hijo_1, hijo_2 = cruza_un_corte(padre1, padre2)  # Puedes cambiar a cruza_homogenea si lo prefieres\n",
    "        \n",
    "        poblacion_hijos.append(hijo_1)\n",
    "        poblacion_hijos.append(hijo_2)\n",
    "        \n",
    "        i += 2  # Avanzamos de dos en dos para el cruce de pares\n",
    "    \n",
    "    return np.array(poblacion_hijos)"
   ]
  },
  {
   "cell_type": "markdown",
   "id": "982c53da-9ea6-4293-8c2e-226d6a164cc4",
   "metadata": {},
   "source": [
    "### Tournament"
   ]
  },
  {
   "cell_type": "code",
   "execution_count": 6,
   "id": "de3acaf5-7d96-4883-ac28-f83fea1a434b",
   "metadata": {},
   "outputs": [],
   "source": [
    "def tournament(poblacion):\n",
    "    n = len(poblacion)  # número de individuos en la población\n",
    "    num_genes = len(poblacion[0])  # número de genes por individuo\n",
    "    poblacion_hijos = []\n",
    "\n",
    "    for i in range(n // 2):\n",
    "        # Tomamos padres en pares (por ejemplo: 1-10, 2-9, etc., si la población está ordenada)\n",
    "        padre1 = poblacion[i]\n",
    "        padre2 = poblacion[n - 1 - i]\n",
    "        \n",
    "        # Aplicamos cruce homogéneo\n",
    "        #hijo_1, hijo_2 = cruza_homogenea(padre1, padre2)\n",
    "        hijo_1, hijo_2 = cruza_un_corte(padre1, padre2)\n",
    "        \n",
    "        # Añadimos los hijos generados a la nueva población de hijos\n",
    "        poblacion_hijos.append(hijo_1)\n",
    "        poblacion_hijos.append(hijo_2)\n",
    "    \n",
    "    return np.array(poblacion_hijos)\n"
   ]
  },
  {
   "cell_type": "markdown",
   "id": "bcfde023-ce9b-4c45-9f26-a2273139d0a7",
   "metadata": {},
   "source": [
    "### Aleatorio Monogamico"
   ]
  },
  {
   "cell_type": "code",
   "execution_count": 7,
   "id": "01cfae0b-a560-48e2-b6ee-64cf07bba5d6",
   "metadata": {},
   "outputs": [],
   "source": [
    "def aleatorio_monogamico(poblacion):\n",
    "    n = len(poblacion)  # Número de individuos en la población\n",
    "    poblacion_disponible = poblacion.copy().tolist()  # Copia de la población para seleccionar y eliminar individuos\n",
    "    poblacion_hijos = []\n",
    "    \n",
    "    # Generamos n/2 pares de padres para obtener una nueva población de hijos\n",
    "    while len(poblacion_hijos) < n:\n",
    "        # Selección aleatoria de una pareja de padres\n",
    "        pareja = random.sample(poblacion_disponible, 2)\n",
    "        \n",
    "        # Aplicamos cruce homogéneo entre los padres seleccionados\n",
    "        hijo_1, hijo_2 = cruza_homogenea(np.array(pareja[0]), np.array(pareja[1]))\n",
    "        \n",
    "        # Añadimos los hijos generados a la nueva población de hijos\n",
    "        poblacion_hijos.append(hijo_1)\n",
    "        poblacion_hijos.append(hijo_2)\n",
    "        \n",
    "        # Eliminamos los padres seleccionados de la población disponible para evitar repetición\n",
    "        poblacion_disponible.remove(pareja[0])\n",
    "        poblacion_disponible.remove(pareja[1])\n",
    "    \n",
    "    return np.array(poblacion_hijos[:n])  # Retornamos exactamente n hijos"
   ]
  },
  {
   "cell_type": "markdown",
   "id": "a37e3ed8-1611-4141-a70c-36d9c14877a7",
   "metadata": {},
   "source": [
    "## Metodos de Cruza"
   ]
  },
  {
   "cell_type": "markdown",
   "id": "0fcfda0f-1f23-49dc-be46-e57279913020",
   "metadata": {},
   "source": [
    "### Cruza por un corte"
   ]
  },
  {
   "cell_type": "code",
   "execution_count": 8,
   "id": "81e3add6-4050-4d98-bcbe-dd8c14357898",
   "metadata": {},
   "outputs": [],
   "source": [
    "def cruza_un_corte(padre1, padre2):\n",
    "    num_genes = len(padre1)\n",
    "    punto_corte = num_genes // 2  # Definimos el punto de corte en la mitad\n",
    "\n",
    "    # Creamos los hijos usando el cruce en el punto definido\n",
    "    hijo_1 = np.concatenate((padre1[:punto_corte], padre2[punto_corte:]))\n",
    "    hijo_2 = np.concatenate((padre2[:punto_corte], padre1[punto_corte:]))\n",
    "    \n",
    "    return hijo_1, hijo_2"
   ]
  },
  {
   "cell_type": "markdown",
   "id": "cb55599f-bab9-40ec-b6fb-96a54f493eb4",
   "metadata": {},
   "source": [
    "### Cruza Homogenea"
   ]
  },
  {
   "cell_type": "code",
   "execution_count": 9,
   "id": "b2718953-bd24-4774-be92-6e6421ba2088",
   "metadata": {},
   "outputs": [],
   "source": [
    "def cruza_homogenea(padre1, padre2):\n",
    "    num_genes = len(padre1)\n",
    "    hijo_1 = np.zeros(num_genes)\n",
    "    hijo_2 = np.zeros(num_genes)\n",
    "    \n",
    "    for i in range(num_genes):\n",
    "        # Seleccionamos aleatoriamente si cada gen viene del padre1 o del padre2\n",
    "        if random.random() < 0.5:\n",
    "            hijo_1[i] = padre1[i]\n",
    "            hijo_2[i] = padre2[i]\n",
    "        else:\n",
    "            hijo_1[i] = padre2[i]\n",
    "            hijo_2[i] = padre1[i]\n",
    "    \n",
    "    return hijo_1, hijo_2\n"
   ]
  },
  {
   "cell_type": "code",
   "execution_count": null,
   "id": "a1f67f47-822b-4b5e-8bf4-c43b5a4f14bd",
   "metadata": {},
   "outputs": [],
   "source": []
  },
  {
   "cell_type": "code",
   "execution_count": 10,
   "id": "87b2aa1a-845e-49df-8c85-148ee3422aaa",
   "metadata": {},
   "outputs": [],
   "source": [
    "pop_size = 20\n",
    "num_generaciones = 20\n",
    "mutation_rate = 0.1\n",
    "elite_size = 2\n",
    "bounds = [-10, 10]\n",
    "\n",
    "poblacion1 = inicializar_poblacion(pop_size, bounds, random_state=0)\n",
    "#poblacion1"
   ]
  },
  {
   "cell_type": "code",
   "execution_count": 11,
   "id": "241f3c0d-6812-411c-92da-c25f320ae396",
   "metadata": {},
   "outputs": [],
   "source": [
    "matriz_aptitud = evaluacion_aptitud(poblacion1)\n",
    "#matriz_aptitud"
   ]
  },
  {
   "cell_type": "code",
   "execution_count": 12,
   "id": "42e21b0a-271a-426a-ad1e-ed07e8afbd78",
   "metadata": {},
   "outputs": [],
   "source": [
    "matriz_con_aptitud = matriz_aptitud.sort_values(by=\"APTITUD\", ascending = True).reset_index(drop=True)\n",
    "#matriz_con_aptitud"
   ]
  },
  {
   "cell_type": "code",
   "execution_count": 13,
   "id": "c35a0fef-6edf-41c3-8cec-55bd28bab5f7",
   "metadata": {},
   "outputs": [],
   "source": [
    "poblacion_hijos = tournament(matriz_con_aptitud[\"POBLACION\"])\n",
    "#poblacion_hijos"
   ]
  },
  {
   "cell_type": "code",
   "execution_count": 17,
   "id": "34298c10-4499-4b11-a847-86bf33e5f4d4",
   "metadata": {},
   "outputs": [],
   "source": [
    "def run_GA(poblacion, generaciones,pop_size ):\n",
    "\n",
    "    print(\"Comienza el Algoritmo Genetico\")\n",
    "    #Variables para guardar el historico de cada generacion\n",
    "    mean_fitness_history = []\n",
    "    best_fitness_history = []\n",
    "    snapshots = {}\n",
    "    \n",
    "    for i in range(generaciones):\n",
    "        #Guardar valores para comparar entre la primera, mitad y ultima generacion\n",
    "        if generation == 0:\n",
    "            snapshots[\"first\"] = population.copy()\n",
    "        elif generation == num_generations // 2:\n",
    "            snapshots[\"middle\"] = population.copy()\n",
    "        elif generation == num_generations - 1:\n",
    "            snapshots[\"last\"] = population.copy()\n",
    "    \n",
    "        #Evaluar a los pobladores\n",
    "        poblacion_aptitud = evaluacion_aptitud(poblacion)\n",
    "        matriz_con_aptitud = poblacion_aptitud.sort_values(by=\"APTITUD\", ascending = True).reset_index(drop=True)\n",
    "\n",
    "        #Obtener la media y la mejor aptitud\n",
    "        mean_fitness = np.mean(matriz_con_aptitud['APTITUD'])\n",
    "        best_fitness = np.max(matriz_con_aptitud['APTITUD'])  # Max because we're using negative values for minimization\n",
    "        \n",
    "        #Guardar la media y mejor aptitud\n",
    "        mean_fitness_history.append(mean_fitness)\n",
    "        best_fitness_history.append(best_fitness)\n",
    "\n",
    "        poblacion_hijos = rank_seleccion(matriz_con_aptitud[\"POBLACION\"])\n",
    "\n",
    "        aptitud_hijos = evaluacion_aptitud(poblacion_hijos)\n",
    "\n",
    "        matriz_mixed = pd.concat([matriz_con_aptitud, aptitud_hijos], ignore_index=True)\n",
    "\n",
    "        matriz_final = matriz_mixed.sort_values(by=\"APTITUD\", ascending = True).reset_index(drop=True)\n",
    "\n",
    "        matriz_con_aptitud = matriz_final[0:pop_size]\n",
    "        \n",
    "    return matriz_con_aptitud"
   ]
  },
  {
   "cell_type": "code",
   "execution_count": 15,
   "id": "09f8fec3-e2e1-4980-b331-bed83c68dce8",
   "metadata": {},
   "outputs": [
    {
     "name": "stdout",
     "output_type": "stream",
     "text": [
      "Comienza el Algoritmo Genetico\n"
     ]
    }
   ],
   "source": [
    "prueba1 = run_GA(poblacion1,num_generaciones,pop_size)"
   ]
  },
  {
   "cell_type": "code",
   "execution_count": 16,
   "id": "2ee8e53b-5a80-4718-ba8f-c0f0bfe81bad",
   "metadata": {},
   "outputs": [
    {
     "data": {
      "text/html": [
       "<div>\n",
       "<style scoped>\n",
       "    .dataframe tbody tr th:only-of-type {\n",
       "        vertical-align: middle;\n",
       "    }\n",
       "\n",
       "    .dataframe tbody tr th {\n",
       "        vertical-align: top;\n",
       "    }\n",
       "\n",
       "    .dataframe thead th {\n",
       "        text-align: right;\n",
       "    }\n",
       "</style>\n",
       "<table border=\"1\" class=\"dataframe\">\n",
       "  <thead>\n",
       "    <tr style=\"text-align: right;\">\n",
       "      <th></th>\n",
       "      <th>POBLACION</th>\n",
       "      <th>APTITUD</th>\n",
       "    </tr>\n",
       "  </thead>\n",
       "  <tbody>\n",
       "    <tr>\n",
       "      <th>0</th>\n",
       "      <td>[-0.7704127549413631, 5.610583525729108]</td>\n",
       "      <td>-170.301292</td>\n",
       "    </tr>\n",
       "    <tr>\n",
       "      <th>1</th>\n",
       "      <td>[-0.876993355669029, 5.610583525729108]</td>\n",
       "      <td>-160.173845</td>\n",
       "    </tr>\n",
       "    <tr>\n",
       "      <th>2</th>\n",
       "      <td>[-0.7704127549413631, 1.3686789773729693]</td>\n",
       "      <td>-39.952492</td>\n",
       "    </tr>\n",
       "    <tr>\n",
       "      <th>3</th>\n",
       "      <td>[5.563135018997009, 2.3386799374951384]</td>\n",
       "      <td>-38.106746</td>\n",
       "    </tr>\n",
       "    <tr>\n",
       "      <th>4</th>\n",
       "      <td>[-0.876993355669029, 1.3686789773729693]</td>\n",
       "      <td>-37.576604</td>\n",
       "    </tr>\n",
       "    <tr>\n",
       "      <th>5</th>\n",
       "      <td>[-7.634511482621336, 2.798420426550477]</td>\n",
       "      <td>-31.531950</td>\n",
       "    </tr>\n",
       "    <tr>\n",
       "      <th>6</th>\n",
       "      <td>[-1.5269040132219054, 2.798420426550477]</td>\n",
       "      <td>-29.716123</td>\n",
       "    </tr>\n",
       "    <tr>\n",
       "      <th>7</th>\n",
       "      <td>[-7.634511482621336, 2.917882261333123]</td>\n",
       "      <td>-19.649304</td>\n",
       "    </tr>\n",
       "    <tr>\n",
       "      <th>8</th>\n",
       "      <td>[-1.5269040132219054, 2.917882261333123]</td>\n",
       "      <td>-18.517762</td>\n",
       "    </tr>\n",
       "    <tr>\n",
       "      <th>9</th>\n",
       "      <td>[0.43696643500143395, 4.30378732744839]</td>\n",
       "      <td>-18.045946</td>\n",
       "    </tr>\n",
       "    <tr>\n",
       "      <th>10</th>\n",
       "      <td>[5.563135018997009, 7.400242964936382]</td>\n",
       "      <td>-8.378415</td>\n",
       "    </tr>\n",
       "    <tr>\n",
       "      <th>11</th>\n",
       "      <td>[2.2419144544484286, 2.3386799374951384]</td>\n",
       "      <td>-7.774157</td>\n",
       "    </tr>\n",
       "    <tr>\n",
       "      <th>12</th>\n",
       "      <td>[1.3608912218786458, 8.51193276585322]</td>\n",
       "      <td>-7.477312</td>\n",
       "    </tr>\n",
       "    <tr>\n",
       "      <th>13</th>\n",
       "      <td>[0.9762700785464951, -1.7067612001895291]</td>\n",
       "      <td>-7.253979</td>\n",
       "    </tr>\n",
       "    <tr>\n",
       "      <th>14</th>\n",
       "      <td>[2.2419144544484286, 7.400242964936382]</td>\n",
       "      <td>-1.709280</td>\n",
       "    </tr>\n",
       "    <tr>\n",
       "      <th>15</th>\n",
       "      <td>[8.874961570292484, 3.636405982069668]</td>\n",
       "      <td>-1.567862</td>\n",
       "    </tr>\n",
       "    <tr>\n",
       "      <th>16</th>\n",
       "      <td>[2.055267521432878, -8.257414005969185]</td>\n",
       "      <td>-0.931517</td>\n",
       "    </tr>\n",
       "    <tr>\n",
       "      <th>17</th>\n",
       "      <td>[5.834500761653292, -2.3311696234844455]</td>\n",
       "      <td>-0.470168</td>\n",
       "    </tr>\n",
       "    <tr>\n",
       "      <th>18</th>\n",
       "      <td>[9.273255210020587, -2.3311696234844455]</td>\n",
       "      <td>-0.438800</td>\n",
       "    </tr>\n",
       "    <tr>\n",
       "      <th>19</th>\n",
       "      <td>[-8.579278836042262, 0.8976636599379368]</td>\n",
       "      <td>-0.305495</td>\n",
       "    </tr>\n",
       "  </tbody>\n",
       "</table>\n",
       "</div>"
      ],
      "text/plain": [
       "                                    POBLACION     APTITUD\n",
       "0    [-0.7704127549413631, 5.610583525729108] -170.301292\n",
       "1     [-0.876993355669029, 5.610583525729108] -160.173845\n",
       "2   [-0.7704127549413631, 1.3686789773729693]  -39.952492\n",
       "3     [5.563135018997009, 2.3386799374951384]  -38.106746\n",
       "4    [-0.876993355669029, 1.3686789773729693]  -37.576604\n",
       "5     [-7.634511482621336, 2.798420426550477]  -31.531950\n",
       "6    [-1.5269040132219054, 2.798420426550477]  -29.716123\n",
       "7     [-7.634511482621336, 2.917882261333123]  -19.649304\n",
       "8    [-1.5269040132219054, 2.917882261333123]  -18.517762\n",
       "9     [0.43696643500143395, 4.30378732744839]  -18.045946\n",
       "10     [5.563135018997009, 7.400242964936382]   -8.378415\n",
       "11   [2.2419144544484286, 2.3386799374951384]   -7.774157\n",
       "12     [1.3608912218786458, 8.51193276585322]   -7.477312\n",
       "13  [0.9762700785464951, -1.7067612001895291]   -7.253979\n",
       "14    [2.2419144544484286, 7.400242964936382]   -1.709280\n",
       "15     [8.874961570292484, 3.636405982069668]   -1.567862\n",
       "16    [2.055267521432878, -8.257414005969185]   -0.931517\n",
       "17   [5.834500761653292, -2.3311696234844455]   -0.470168\n",
       "18   [9.273255210020587, -2.3311696234844455]   -0.438800\n",
       "19   [-8.579278836042262, 0.8976636599379368]   -0.305495"
      ]
     },
     "execution_count": 16,
     "metadata": {},
     "output_type": "execute_result"
    }
   ],
   "source": [
    "prueba1"
   ]
  },
  {
   "cell_type": "code",
   "execution_count": null,
   "id": "f69393a0-eea1-4426-a7a2-2e4d8b6abadb",
   "metadata": {},
   "outputs": [],
   "source": []
  }
 ],
 "metadata": {
  "kernelspec": {
   "display_name": "Python 3 (ipykernel)",
   "language": "python",
   "name": "python3"
  },
  "language_info": {
   "codemirror_mode": {
    "name": "ipython",
    "version": 3
   },
   "file_extension": ".py",
   "mimetype": "text/x-python",
   "name": "python",
   "nbconvert_exporter": "python",
   "pygments_lexer": "ipython3",
   "version": "3.9.18"
  }
 },
 "nbformat": 4,
 "nbformat_minor": 5
}
