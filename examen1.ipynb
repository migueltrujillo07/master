{
 "cells": [
  {
   "cell_type": "code",
   "execution_count": 1,
   "id": "403e9e97-42dc-43ad-8315-f9951cd6b526",
   "metadata": {},
   "outputs": [],
   "source": [
    "import numpy as np\n",
    "import pandas as pd\n",
    "import random\n",
    "import matplotlib.pyplot as plt\n",
    "import plotly.graph_objs as go"
   ]
  },
  {
   "cell_type": "markdown",
   "id": "a5a689e2-b6fc-4186-836b-1e560ea7d189",
   "metadata": {},
   "source": [
    "## Funcion Objetivo"
   ]
  },
  {
   "cell_type": "code",
   "execution_count": 2,
   "id": "b3dbe8d0-5e23-4eda-a25d-b6953ce6c49b",
   "metadata": {},
   "outputs": [],
   "source": [
    "def funcion_objetivo(x):\n",
    "    # Assuming `x` is a numpy array with two elements, x[0] and x[1]\n",
    "    sum1 = sum(i * np.cos((i + 1) * x[0] + i) for i in range(1, 6))\n",
    "    sum2 = sum(i * np.cos((i + 1) * x[1] + i) for i in range(1, 6))\n",
    "    return sum1 * sum2"
   ]
  },
  {
   "cell_type": "markdown",
   "id": "0c7fa769-c5f3-47d5-badd-fb45928d06a5",
   "metadata": {},
   "source": [
    "## Inicializar Poblacion"
   ]
  },
  {
   "cell_type": "code",
   "execution_count": 3,
   "id": "1845a7a9-84b9-4162-a5d1-868a5208df33",
   "metadata": {},
   "outputs": [],
   "source": [
    "def inicializar_poblacion(pop_size, bounds, random_state=None):\n",
    "    if random_state is not None:\n",
    "        np.random.seed(random_state)\n",
    "    population = []\n",
    "    for _ in range(pop_size):\n",
    "        individual = np.round(np.random.uniform(bounds[0], bounds[1], size=2), 4)  # Two genes for x1 and x2\n",
    "        population.append(individual)\n",
    "    return np.array(population)"
   ]
  },
  {
   "cell_type": "markdown",
   "id": "2c3c9fac-d791-45be-8cde-bd5b7887cceb",
   "metadata": {},
   "source": [
    "## Evaluar Poblacion"
   ]
  },
  {
   "cell_type": "code",
   "execution_count": 26,
   "id": "a2007ed1-9a5a-4860-bfc8-f5dfb5707b05",
   "metadata": {},
   "outputs": [],
   "source": [
    "def evaluacion_aptitud(poblacion, columna=None):\n",
    "    # Si se pasa una columna de DataFrame, extraer esa columna como lista\n",
    "    if columna is not None:\n",
    "        poblacion = poblacion[columna].tolist()\n",
    "        \n",
    "    n = len(poblacion)\n",
    "    aptitud = []\n",
    "    matriz_con_aptitud = pd.DataFrame()\n",
    "    \n",
    "    # Calcular la aptitud para cada individuo\n",
    "    for individuo in poblacion:\n",
    "        aptitud.append(funcion_objetivo(individuo))  # Evaluamos la aptitud usando la función objetivo\n",
    "    \n",
    "    # Guardar en el DataFrame los individuos y sus aptitudes\n",
    "    matriz_con_aptitud[\"POBLACION\"] = [list(ind) for ind in poblacion]  # Guardamos cada individuo\n",
    "    matriz_con_aptitud[\"APTITUD\"] = aptitud  # Aptitud de cada individuo\n",
    "    \n",
    "    # Redondear la columna de aptitud a 4 decimales\n",
    "    matriz_con_aptitud[\"APTITUD\"] = matriz_con_aptitud[\"APTITUD\"].round(4)\n",
    "    \n",
    "    return matriz_con_aptitud\n"
   ]
  },
  {
   "cell_type": "markdown",
   "id": "0acae9aa-d32c-400c-bbfe-b35c15d1252f",
   "metadata": {},
   "source": [
    "## Ordenar"
   ]
  },
  {
   "cell_type": "code",
   "execution_count": 5,
   "id": "e56bce97-efb8-4e9e-b4b7-c496caf00dcb",
   "metadata": {},
   "outputs": [],
   "source": [
    "def ordenar(df, columna, ascending=True):\n",
    "\n",
    "    df_ordenado = df.sort_values(by=columna, ascending=ascending).reset_index(drop=True)\n",
    "    return df_ordenado"
   ]
  },
  {
   "cell_type": "markdown",
   "id": "eb8694da-32c7-41db-ad92-82be9fe16ca7",
   "metadata": {},
   "source": [
    "## Metodos de Seleccion"
   ]
  },
  {
   "cell_type": "markdown",
   "id": "ff565749-f2f2-40ed-b0df-37b82d1e4e98",
   "metadata": {},
   "source": [
    "## Ranking"
   ]
  },
  {
   "cell_type": "code",
   "execution_count": 6,
   "id": "f1a26c51-9edc-423b-8b55-c4d8b7622036",
   "metadata": {},
   "outputs": [],
   "source": [
    "def rank_seleccion(poblacion):\n",
    "    valores_geneticos = poblacion[\"POBLACION\"].values  # Extrae solo la columna de valores genéticos\n",
    "    n = len(valores_geneticos)\n",
    "    poblacion_hijos = []\n",
    "    i = 0\n",
    "    \n",
    "    # Generamos hijos mediante cruce de pares adyacentes en la población ordenada\n",
    "    while i < n - 1:\n",
    "        padre1 = valores_geneticos[i]\n",
    "        padre2 = valores_geneticos[i + 1]\n",
    "        \n",
    "        # Realizamos cruce (un punto o homogéneo)\n",
    "        hijo_1, hijo_2 = cruza_un_corte(padre1, padre2)  # Puedes cambiar a cruza_homogenea si lo prefieres\n",
    "        \n",
    "        # Agregamos solo los hijos sin valores de aptitud\n",
    "        poblacion_hijos.append(hijo_1)\n",
    "        poblacion_hijos.append(hijo_2)\n",
    "        \n",
    "        i += 2  # Avanzamos de dos en dos para el cruce de pares\n",
    "    \n",
    "    return poblacion_hijos"
   ]
  },
  {
   "cell_type": "markdown",
   "id": "de05d735-2d89-4fc0-8602-934835f32ecd",
   "metadata": {},
   "source": [
    "## Torneo"
   ]
  },
  {
   "cell_type": "code",
   "execution_count": 7,
   "id": "c3ca446f-fccb-4e21-b493-3cf33f8c53b3",
   "metadata": {},
   "outputs": [],
   "source": [
    "def tournament(poblacion):\n",
    "    n = len(poblacion)  # Número de individuos en la población\n",
    "    poblacion_hijos = []\n",
    "\n",
    "    for i in range(n // 2):\n",
    "        # Tomamos padres en pares desde la columna \"POBLACION\"\n",
    "        padre1 = poblacion[\"POBLACION\"].iloc[i]\n",
    "        padre2 = poblacion[\"POBLACION\"].iloc[n - 1 - i]\n",
    "        \n",
    "        # Aplicamos cruce homogéneo (puedes descomentar para probar)\n",
    "        # hijo_1, hijo_2 = cruza_homogenea(padre1, padre2)\n",
    "        hijo_1, hijo_2 = cruza_un_corte(padre1, padre2)\n",
    "        \n",
    "        # Añadimos los hijos generados a la nueva población de hijos\n",
    "        poblacion_hijos.append(hijo_1)\n",
    "        poblacion_hijos.append(hijo_2)\n",
    "    \n",
    "    return poblacion_hijos"
   ]
  },
  {
   "cell_type": "markdown",
   "id": "c6aa8caa-9126-4eb9-884b-dc7f35457c13",
   "metadata": {},
   "source": [
    "## Aleatorio Monogamico"
   ]
  },
  {
   "cell_type": "code",
   "execution_count": 8,
   "id": "93d88854-f745-4ebe-b035-3344d3113183",
   "metadata": {},
   "outputs": [],
   "source": [
    "def aleatorio_monogamico(poblacion):\n",
    "    n = len(poblacion)  # Número de individuos en la población\n",
    "    # Creamos una lista de individuos únicamente a partir de la columna \"POBLACION\"\n",
    "    poblacion_disponible = poblacion[\"POBLACION\"].tolist()  # Lista de individuos para la selección aleatoria\n",
    "    poblacion_hijos = []\n",
    "    \n",
    "    # Generamos n/2 pares de padres para obtener una nueva población de hijos\n",
    "    while len(poblacion_hijos) < n:\n",
    "        # Selección aleatoria de una pareja de padres\n",
    "        pareja = random.sample(poblacion_disponible, 2)\n",
    "        \n",
    "        # Aplicamos cruce homogéneo entre los padres seleccionados\n",
    "        hijo_1, hijo_2 = cruza_un_corte(np.array(pareja[0]), np.array(pareja[1]))\n",
    "        \n",
    "        # Añadimos los hijos generados a la nueva población de hijos\n",
    "        poblacion_hijos.append(hijo_1)\n",
    "        poblacion_hijos.append(hijo_2)\n",
    "        \n",
    "        # Eliminamos los padres seleccionados de la población disponible para evitar repetición\n",
    "        poblacion_disponible.remove(pareja[0])\n",
    "        poblacion_disponible.remove(pareja[1])\n",
    "    \n",
    "    return poblacion_hijos[:n]  # Retornamos exactamente n hijos"
   ]
  },
  {
   "cell_type": "markdown",
   "id": "13b4b326-4a8c-4244-9a0f-c5304b4f0802",
   "metadata": {},
   "source": [
    "## Cruza por un corte"
   ]
  },
  {
   "cell_type": "code",
   "execution_count": 9,
   "id": "4217de07-448b-45cc-8ff8-6fa8c348d4d7",
   "metadata": {},
   "outputs": [],
   "source": [
    "def cruza_un_corte(padre1, padre2):\n",
    "    num_genes = len(padre1)\n",
    "    punto_corte = num_genes // 2  # Definimos el punto de corte en la mitad\n",
    "\n",
    "    # Creamos los hijos usando el cruce en el punto definido\n",
    "    hijo_1 = np.concatenate((padre1[:punto_corte], padre2[punto_corte:]))\n",
    "    hijo_2 = np.concatenate((padre2[:punto_corte], padre1[punto_corte:]))\n",
    "    \n",
    "    return hijo_1, hijo_2"
   ]
  },
  {
   "cell_type": "markdown",
   "id": "9715c742-229c-455d-9679-d0c17ff528db",
   "metadata": {},
   "source": [
    "## Mutacion"
   ]
  },
  {
   "cell_type": "code",
   "execution_count": 10,
   "id": "31bbef24-c2ad-4478-8483-2c3962b4a214",
   "metadata": {},
   "outputs": [],
   "source": [
    "def operador_mutacion(poblacion, tasa_mutacion=0.5, rango_mutacion=0.5, decimales=4):\n",
    "    # Ordenar la población por aptitud en orden ascendente (suponiendo que valores menores son peores)\n",
    "    #poblacion = poblacion.sort_values(by=\"APTITUD\", ascending=True).reset_index(drop=True)\n",
    "    \n",
    "    # Determinar el 10% de la población (peor 10%) para la mutación\n",
    "    num_mutar = max(1, int(len(poblacion) * 0.2))  # Asegura que al menos un individuo sufra mutación\n",
    "    indices_a_mutar = poblacion.index[-num_mutar:]  # Selecciona los índices del peor 10%\n",
    "    \n",
    "    # Aplicar mutación\n",
    "    for idx in indices_a_mutar:\n",
    "        individuo = poblacion.at[idx, \"POBLACION\"]\n",
    "        \n",
    "        # Aplicar mutación a cada gen del individuo y redondear a los decimales deseados\n",
    "        mutado = [np.round(gen + np.random.uniform(-rango_mutacion, rango_mutacion) \n",
    "                           if np.random.rand() < tasa_mutacion else gen, decimales) \n",
    "                  for gen in individuo]\n",
    "        \n",
    "        # Actualizar el individuo mutado en la población\n",
    "        poblacion.at[idx, \"POBLACION\"] = mutado\n",
    "    \n",
    "    return poblacion"
   ]
  },
  {
   "cell_type": "markdown",
   "id": "bdea61b9-340f-4b42-9ce5-8e291737f93f",
   "metadata": {},
   "source": [
    "## Algoritmo Genetico"
   ]
  },
  {
   "cell_type": "code",
   "execution_count": 22,
   "id": "923c78a1-0cdb-4859-91d2-1f4ee46f8780",
   "metadata": {},
   "outputs": [],
   "source": [
    "def run_GA(poblacion, num_generaciones,pop_size ):\n",
    "\n",
    "    print(\"Comienza el Algoritmo Genetico\")\n",
    "\n",
    "    if not isinstance(poblacion, pd.DataFrame):\n",
    "        poblacion = pd.DataFrame({\"POBLACION\": [list(ind) for ind in poblacion]})\n",
    "    \n",
    "    #Variables para guardar el historico de cada generacion\n",
    "    mean_fitness_history = []\n",
    "    best_fitness_history = []\n",
    "    snapshots = {}\n",
    "    \n",
    "    \n",
    "    for generacion in range(num_generaciones):\n",
    "        #Guardar valores para comparar entre la primera, mitad y ultima generacion\n",
    "        if generacion == 0:\n",
    "            snapshots[\"first\"] = poblacion.copy()\n",
    "        elif generacion == num_generaciones // 2:\n",
    "            snapshots[\"middle\"] = poblacion.copy()\n",
    "        elif generacion == num_generaciones - 1:\n",
    "            snapshots[\"last\"] = poblacion.copy()\n",
    "    \n",
    "        print(f'Generacion {generacion}')\n",
    "        #Evaluar a los pobladores\n",
    "        poblacionInicialEvaluada = evaluacion_aptitud(poblacion, 'POBLACION')\n",
    "        poblacionOrdenada = ordenar(poblacionInicialEvaluada, columna='APTITUD')\n",
    "\n",
    "        #Obtener la media y la mejor aptitud\n",
    "        mean_fitness = np.mean(poblacionOrdenada['APTITUD'])\n",
    "        best_fitness = np.max(poblacionOrdenada['APTITUD'])  # Max because we're using negative values for minimization\n",
    "        \n",
    "        #Guardar la media y mejor aptitud\n",
    "        mean_fitness_history.append(mean_fitness)\n",
    "        best_fitness_history.append(best_fitness)\n",
    "\n",
    "        #Cruza De Hijos Seleccion Torneo\n",
    "        hijos = rank_seleccion(poblacionOrdenada)\n",
    "        evaluacionHijos = evaluacion_aptitud(hijos)\n",
    "\n",
    "        unionPadresHijos = pd.concat([poblacionOrdenada, evaluacionHijos], ignore_index=True)\n",
    "        poblacionOrdenada = ordenar(unionPadresHijos, columna='APTITUD')\n",
    "\n",
    "        poblacionMutada = operador_mutacion(poblacionOrdenada)\n",
    "        poblacionEvaluada = evaluacion_aptitud(poblacionMutada,'POBLACION')\n",
    "        poblacionFinal = ordenar(poblacionEvaluada, columna='APTITUD')\n",
    "\n",
    "        poblacion = poblacionFinal[0:pop_size]\n",
    "\n",
    "    mejor_solucion = poblacion.loc[poblacion_evaluada[\"APTITUD\"].idxmax(), \"POBLACION\"]\n",
    "    mejor_aptitud_final = poblacion[\"APTITUD\"].max()\n",
    "\n",
    "    return {\n",
    "        \"final_population\": poblacion,\n",
    "        \"mejor_solucion\": mejor_solucion,\n",
    "        \"best_solution_fitness\": mejor_aptitud_final,\n",
    "        \"mean_fitness_history\": mean_fitness_history,\n",
    "        \"best_fitness_history\": best_fitness_history,\n",
    "        \"snapshots\": snapshots\n",
    "    }"
   ]
  },
  {
   "cell_type": "code",
   "execution_count": 87,
   "id": "79f570bb-5bbd-4f75-ab0f-214f71294476",
   "metadata": {},
   "outputs": [
    {
     "name": "stdout",
     "output_type": "stream",
     "text": [
      "Comienza el Algoritmo Genetico\n",
      "Generacion 0\n",
      "Generacion 1\n",
      "Generacion 2\n",
      "Generacion 3\n",
      "Generacion 4\n",
      "Generacion 5\n",
      "Generacion 6\n",
      "Generacion 7\n",
      "Generacion 8\n",
      "Generacion 9\n"
     ]
    }
   ],
   "source": [
    "num_generaciones = 10\n",
    "pop_size = 250\n",
    "limites = [-10, 10]\n",
    "\n",
    "poblacion1 = inicializar_poblacion(pop_size, limites, random_state=0)\n",
    "resultado = run_GA(poblacion1, num_generaciones, pop_size)"
   ]
  },
  {
   "cell_type": "code",
   "execution_count": 89,
   "id": "a265a261-4ceb-4293-932d-03b5b63b79f2",
   "metadata": {},
   "outputs": [
    {
     "data": {
      "image/png": "[encoded data removed]",
      "text/plain": [
       "<Figure size 1000x600 with 1 Axes>"
      ]
     },
     "metadata": {},
     "output_type": "display_data"
    },
    {
     "name": "stdout",
     "output_type": "stream",
     "text": [
      "Mejor Aptitud: -178.5519\n",
      "Mejor Solucion [-0.8029, -1.4246]\n",
      "              POBLACION   APTITUD\n",
      "0    [-0.8029, -1.4246] -186.7156\n",
      "1     [-1.4389, 5.4809] -186.2824\n",
      "2     [-1.4389, 5.4809] -186.2824\n",
      "3     [-1.4389, 5.4809] -186.2824\n",
      "4     [-1.4389, 5.4809] -186.2824\n",
      "..                  ...       ...\n",
      "245  [-0.8029, -7.6494] -178.5519\n",
      "246  [-0.8029, -7.6494] -178.5519\n",
      "247  [-0.8029, -7.6494] -178.5519\n",
      "248  [-0.8029, -7.6494] -178.5519\n",
      "249  [-0.8029, -7.6494] -178.5519\n",
      "\n",
      "[250 rows x 2 columns]\n"
     ]
    }
   ],
   "source": [
    "plt.figure(figsize=(10, 6))\n",
    "plt.plot(resultado[\"mean_fitness_history\"], label=\"Mean Fitness\")\n",
    "plt.plot(resultado[\"best_fitness_history\"], label=\"Best Fitness\")\n",
    "plt.xlabel(\"Generation\")\n",
    "plt.ylabel(\"Fitness\")\n",
    "plt.title(\"Fitness Behavior Over Generations\")\n",
    "plt.legend()\n",
    "plt.grid()\n",
    "plt.show()\n",
    "\n",
    "print(\"Mejor Aptitud:\",resultado[\"best_solution_fitness\"])\n",
    "print(\"Mejor Solucion\",resultado[\"mejor_solucion\"])\n",
    "print(resultado['final_population'])"
   ]
  },
  {
   "cell_type": "code",
   "execution_count": 25,
   "id": "e969abe1-32b0-47e1-847b-e889467baded",
   "metadata": {},
   "outputs": [
    {
     "ename": "IndentationError",
     "evalue": "unexpected indent (2168656285.py, line 2)",
     "output_type": "error",
     "traceback": [
      "\u001b[1;36m  Cell \u001b[1;32mIn[25], line 2\u001b[1;36m\u001b[0m\n\u001b[1;33m    um2 = sum(i * np.cos((i + 1) * x[1] + i) for i in range(1, 6))\u001b[0m\n\u001b[1;37m    ^\u001b[0m\n\u001b[1;31mIndentationError\u001b[0m\u001b[1;31m:\u001b[0m unexpected indent\n"
     ]
    }
   ],
   "source": [
    "sum1 = sum(i * np.cos((i + 1) * x[0] + i) for i in range(1, 6))\n",
    "sum2 = sum(i * np.cos((i + 1) * x[1] + i) for i in range(1, 6))\n",
    "print(sum1 * sum2)\n"
   ]
  },
  {
   "cell_type": "code",
   "execution_count": 36,
   "id": "08b69c99-73fb-4860-bb6d-b65578490dab",
   "metadata": {},
   "outputs": [
    {
     "ename": "InvalidIndexError",
     "evalue": "(slice(None, None, None), 0)",
     "output_type": "error",
     "traceback": [
      "\u001b[1;31m---------------------------------------------------------------------------\u001b[0m",
      "\u001b[1;31mTypeError\u001b[0m                                 Traceback (most recent call last)",
      "File \u001b[1;32m~\\anaconda3\\Lib\\site-packages\\pandas\\core\\indexes\\base.py:3805\u001b[0m, in \u001b[0;36mIndex.get_loc\u001b[1;34m(self, key)\u001b[0m\n\u001b[0;32m   3804\u001b[0m \u001b[38;5;28;01mtry\u001b[39;00m:\n\u001b[1;32m-> 3805\u001b[0m     \u001b[38;5;28;01mreturn\u001b[39;00m \u001b[38;5;28mself\u001b[39m\u001b[38;5;241m.\u001b[39m_engine\u001b[38;5;241m.\u001b[39mget_loc(casted_key)\n\u001b[0;32m   3806\u001b[0m \u001b[38;5;28;01mexcept\u001b[39;00m \u001b[38;5;167;01mKeyError\u001b[39;00m \u001b[38;5;28;01mas\u001b[39;00m err:\n",
      "File \u001b[1;32mindex.pyx:167\u001b[0m, in \u001b[0;36mpandas._libs.index.IndexEngine.get_loc\u001b[1;34m()\u001b[0m\n",
      "File \u001b[1;32mindex.pyx:173\u001b[0m, in \u001b[0;36mpandas._libs.index.IndexEngine.get_loc\u001b[1;34m()\u001b[0m\n",
      "\u001b[1;31mTypeError\u001b[0m: '(slice(None, None, None), 0)' is an invalid key",
      "\nDuring handling of the above exception, another exception occurred:\n",
      "\u001b[1;31mInvalidIndexError\u001b[0m                         Traceback (most recent call last)",
      "Cell \u001b[1;32mIn[36], line 39\u001b[0m\n\u001b[0;32m     36\u001b[0m     fig\u001b[38;5;241m.\u001b[39mshow()\n\u001b[0;32m     38\u001b[0m \u001b[38;5;66;03m# Plot for each generation separately\u001b[39;00m\n\u001b[1;32m---> 39\u001b[0m plot_generation(\u001b[38;5;124m\"\u001b[39m\u001b[38;5;124mfirst\u001b[39m\u001b[38;5;124m\"\u001b[39m, \u001b[38;5;124m\"\u001b[39m\u001b[38;5;124mred\u001b[39m\u001b[38;5;124m\"\u001b[39m)     \u001b[38;5;66;03m# First generation in red\u001b[39;00m\n\u001b[0;32m     40\u001b[0m plot_generation(\u001b[38;5;124m\"\u001b[39m\u001b[38;5;124mmiddle\u001b[39m\u001b[38;5;124m\"\u001b[39m, \u001b[38;5;124m\"\u001b[39m\u001b[38;5;124mred\u001b[39m\u001b[38;5;124m\"\u001b[39m)    \u001b[38;5;66;03m# Middle generation in blue\u001b[39;00m\n\u001b[0;32m     41\u001b[0m plot_generation(\u001b[38;5;124m\"\u001b[39m\u001b[38;5;124mlast\u001b[39m\u001b[38;5;124m\"\u001b[39m, \u001b[38;5;124m\"\u001b[39m\u001b[38;5;124mred\u001b[39m\u001b[38;5;124m\"\u001b[39m)\n",
      "Cell \u001b[1;32mIn[36], line 16\u001b[0m, in \u001b[0;36mplot_generation\u001b[1;34m(generation_name, color)\u001b[0m\n\u001b[0;32m     13\u001b[0m \u001b[38;5;66;03m# Plot the population points for the given generation\u001b[39;00m\n\u001b[0;32m     14\u001b[0m population_snapshot \u001b[38;5;241m=\u001b[39m resultado[\u001b[38;5;124m\"\u001b[39m\u001b[38;5;124msnapshots\u001b[39m\u001b[38;5;124m\"\u001b[39m][generation_name]\n\u001b[0;32m     15\u001b[0m fig\u001b[38;5;241m.\u001b[39madd_trace(go\u001b[38;5;241m.\u001b[39mScatter3d(\n\u001b[1;32m---> 16\u001b[0m     x\u001b[38;5;241m=\u001b[39mpopulation_snapshot[:, \u001b[38;5;241m0\u001b[39m],\n\u001b[0;32m     17\u001b[0m     y\u001b[38;5;241m=\u001b[39mpopulation_snapshot[:, \u001b[38;5;241m1\u001b[39m],\n\u001b[0;32m     18\u001b[0m     z\u001b[38;5;241m=\u001b[39mfuncion_objetivo(population_snapshot\u001b[38;5;241m.\u001b[39mT),\n\u001b[0;32m     19\u001b[0m     mode\u001b[38;5;241m=\u001b[39m\u001b[38;5;124m'\u001b[39m\u001b[38;5;124mmarkers\u001b[39m\u001b[38;5;124m'\u001b[39m,\n\u001b[0;32m     20\u001b[0m     marker\u001b[38;5;241m=\u001b[39m\u001b[38;5;28mdict\u001b[39m(size\u001b[38;5;241m=\u001b[39m\u001b[38;5;241m5\u001b[39m, color\u001b[38;5;241m=\u001b[39mcolor, opacity\u001b[38;5;241m=\u001b[39m\u001b[38;5;241m0.8\u001b[39m),\n\u001b[0;32m     21\u001b[0m     name\u001b[38;5;241m=\u001b[39m\u001b[38;5;124mf\u001b[39m\u001b[38;5;124m\"\u001b[39m\u001b[38;5;132;01m{\u001b[39;00mgeneration_name\u001b[38;5;241m.\u001b[39mcapitalize()\u001b[38;5;132;01m}\u001b[39;00m\u001b[38;5;124m Generation\u001b[39m\u001b[38;5;124m\"\u001b[39m\n\u001b[0;32m     22\u001b[0m ))\n\u001b[0;32m     24\u001b[0m \u001b[38;5;66;03m# Set titles and labels\u001b[39;00m\n\u001b[0;32m     25\u001b[0m fig\u001b[38;5;241m.\u001b[39mupdate_layout(\n\u001b[0;32m     26\u001b[0m     title\u001b[38;5;241m=\u001b[39m\u001b[38;5;124mf\u001b[39m\u001b[38;5;124m\"\u001b[39m\u001b[38;5;124mInteractive 3D Plot - \u001b[39m\u001b[38;5;132;01m{\u001b[39;00mgeneration_name\u001b[38;5;241m.\u001b[39mcapitalize()\u001b[38;5;132;01m}\u001b[39;00m\u001b[38;5;124m Generation\u001b[39m\u001b[38;5;124m\"\u001b[39m,\n\u001b[0;32m     27\u001b[0m     scene\u001b[38;5;241m=\u001b[39m\u001b[38;5;28mdict\u001b[39m(\n\u001b[1;32m   (...)\u001b[0m\n\u001b[0;32m     33\u001b[0m     height\u001b[38;5;241m=\u001b[39m\u001b[38;5;241m600\u001b[39m\n\u001b[0;32m     34\u001b[0m )\n",
      "File \u001b[1;32m~\\anaconda3\\Lib\\site-packages\\pandas\\core\\frame.py:4090\u001b[0m, in \u001b[0;36mDataFrame.__getitem__\u001b[1;34m(self, key)\u001b[0m\n\u001b[0;32m   4088\u001b[0m \u001b[38;5;28;01mif\u001b[39;00m \u001b[38;5;28mself\u001b[39m\u001b[38;5;241m.\u001b[39mcolumns\u001b[38;5;241m.\u001b[39mnlevels \u001b[38;5;241m>\u001b[39m \u001b[38;5;241m1\u001b[39m:\n\u001b[0;32m   4089\u001b[0m     \u001b[38;5;28;01mreturn\u001b[39;00m \u001b[38;5;28mself\u001b[39m\u001b[38;5;241m.\u001b[39m_getitem_multilevel(key)\n\u001b[1;32m-> 4090\u001b[0m indexer \u001b[38;5;241m=\u001b[39m \u001b[38;5;28mself\u001b[39m\u001b[38;5;241m.\u001b[39mcolumns\u001b[38;5;241m.\u001b[39mget_loc(key)\n\u001b[0;32m   4091\u001b[0m \u001b[38;5;28;01mif\u001b[39;00m is_integer(indexer):\n\u001b[0;32m   4092\u001b[0m     indexer \u001b[38;5;241m=\u001b[39m [indexer]\n",
      "File \u001b[1;32m~\\anaconda3\\Lib\\site-packages\\pandas\\core\\indexes\\base.py:3817\u001b[0m, in \u001b[0;36mIndex.get_loc\u001b[1;34m(self, key)\u001b[0m\n\u001b[0;32m   3812\u001b[0m     \u001b[38;5;28;01mraise\u001b[39;00m \u001b[38;5;167;01mKeyError\u001b[39;00m(key) \u001b[38;5;28;01mfrom\u001b[39;00m \u001b[38;5;21;01merr\u001b[39;00m\n\u001b[0;32m   3813\u001b[0m \u001b[38;5;28;01mexcept\u001b[39;00m \u001b[38;5;167;01mTypeError\u001b[39;00m:\n\u001b[0;32m   3814\u001b[0m     \u001b[38;5;66;03m# If we have a listlike key, _check_indexing_error will raise\u001b[39;00m\n\u001b[0;32m   3815\u001b[0m     \u001b[38;5;66;03m#  InvalidIndexError. Otherwise we fall through and re-raise\u001b[39;00m\n\u001b[0;32m   3816\u001b[0m     \u001b[38;5;66;03m#  the TypeError.\u001b[39;00m\n\u001b[1;32m-> 3817\u001b[0m     \u001b[38;5;28mself\u001b[39m\u001b[38;5;241m.\u001b[39m_check_indexing_error(key)\n\u001b[0;32m   3818\u001b[0m     \u001b[38;5;28;01mraise\u001b[39;00m\n",
      "File \u001b[1;32m~\\anaconda3\\Lib\\site-packages\\pandas\\core\\indexes\\base.py:6059\u001b[0m, in \u001b[0;36mIndex._check_indexing_error\u001b[1;34m(self, key)\u001b[0m\n\u001b[0;32m   6055\u001b[0m \u001b[38;5;28;01mdef\u001b[39;00m \u001b[38;5;21m_check_indexing_error\u001b[39m(\u001b[38;5;28mself\u001b[39m, key):\n\u001b[0;32m   6056\u001b[0m     \u001b[38;5;28;01mif\u001b[39;00m \u001b[38;5;129;01mnot\u001b[39;00m is_scalar(key):\n\u001b[0;32m   6057\u001b[0m         \u001b[38;5;66;03m# if key is not a scalar, directly raise an error (the code below\u001b[39;00m\n\u001b[0;32m   6058\u001b[0m         \u001b[38;5;66;03m# would convert to numpy arrays and raise later any way) - GH29926\u001b[39;00m\n\u001b[1;32m-> 6059\u001b[0m         \u001b[38;5;28;01mraise\u001b[39;00m InvalidIndexError(key)\n",
      "\u001b[1;31mInvalidIndexError\u001b[0m: (slice(None, None, None), 0)"
     ]
    }
   ],
   "source": [
    "x = np.linspace(limites[0], limites[1], 500)\n",
    "y = np.linspace(limites[0], limites[1], 500)\n",
    "X, Y = np.meshgrid(x, y)\n",
    "Z = funcion_objetivo(np.array([X, Y]))\n",
    "\n",
    "# Define a function to create a plot for a specific generation\n",
    "def plot_generation(generation_name, color):\n",
    "    fig = go.Figure()\n",
    "\n",
    "    # Add the surface plot\n",
    "    fig.add_trace(go.Surface(z=Z, x=X, y=Y, colorscale=\"Viridis\", opacity=0.5))\n",
    "\n",
    "    # Plot the population points for the given generation\n",
    "    population_snapshot = resultado[\"snapshots\"][generation_name]\n",
    "    fig.add_trace(go.Scatter3d(\n",
    "        x=population_snapshot[:, 0],\n",
    "        y=population_snapshot[:, 1],\n",
    "        z=funcion_objetivo(population_snapshot.T),\n",
    "        mode='markers',\n",
    "        marker=dict(size=5, color=color, opacity=0.8),\n",
    "        name=f\"{generation_name.capitalize()} Generation\"\n",
    "    ))\n",
    "\n",
    "    # Set titles and labels\n",
    "    fig.update_layout(\n",
    "        title=f\"Interactive 3D Plot - {generation_name.capitalize()} Generation\",\n",
    "        scene=dict(\n",
    "            xaxis_title=\"x1\",\n",
    "            yaxis_title=\"x2\",\n",
    "            zaxis_title=\"Objective Value\"\n",
    "        ),\n",
    "        width=800,\n",
    "        height=600\n",
    "    )\n",
    "\n",
    "    fig.show()\n",
    "\n",
    "# Plot for each generation separately\n",
    "plot_generation(\"first\", \"red\")     # First generation in red\n",
    "plot_generation(\"middle\", \"red\")    # Middle generation in blue\n",
    "plot_generation(\"last\", \"red\")     # Last generation in green"
   ]
  },
  {
   "cell_type": "code",
   "execution_count": null,
   "id": "d1874a41-9291-4c58-b825-ee22aaf5b1ba",
   "metadata": {},
   "outputs": [],
   "source": []
  }
 ],
 "metadata": {
  "kernelspec": {
   "display_name": "Python 3 (ipykernel)",
   "language": "python",
   "name": "python3"
  },
  "language_info": {
   "codemirror_mode": {
    "name": "ipython",
    "version": 3
   },
   "file_extension": ".py",
   "mimetype": "text/x-python",
   "name": "python",
   "nbconvert_exporter": "python",
   "pygments_lexer": "ipython3",
   "version": "3.11.5"
  }
 },
 "nbformat": 4,
 "nbformat_minor": 5
}
